{
  "nbformat": 4,
  "nbformat_minor": 0,
  "metadata": {
    "colab": {
      "provenance": []
    },
    "kernelspec": {
      "name": "python3",
      "display_name": "Python 3"
    },
    "language_info": {
      "name": "python"
    }
  },
  "cells": [
    {
      "cell_type": "markdown",
      "source": [
        "**1. Explain the different types of data (qualitative and quantitative) and provide examples of each. Discuss nominal, ordinal, interval, and ratio scales.**"
      ],
      "metadata": {
        "id": "vBE3-zVcB_ep"
      }
    },
    {
      "cell_type": "code",
      "source": [
        "'''\n",
        "Types of Data -->\n",
        "1. Qualitative Data (Categorical Data)\n",
        "  1. Nominal Data --> No order is there in data. Ex- Blood group, Gender, Marital Status, etc.\n",
        "  2. Ordinal Data --> Order is ther in data. Ex- Customer Satisfaction, Education Level, etc.\n",
        "2. Quantitative Data (Numerical Data)\n",
        "  1. Discrete Data --> Whole number data. Ex- Number of bank accounts, Number of employees, etc.\n",
        "  2. Continuous Data --> Decimal data. Ex- Height, Weight, etc.\n",
        "\n",
        "Scale of measurement -->\n",
        "1. Nominal Scale--> It measures categorical data. It doesnot measures any order.\n",
        "                    It can be represented through pie chart, bar plot etc.\n",
        "                    Ex.- Gender, Blood group, Marital Status, etc.\n",
        "2. Ordinal Scale--> It measures categorical data.\n",
        "                    In this scale order and ranks are considered and has some meanig also but difference of them\n",
        "                    can't be measured.\n",
        "                    It can be represented through pie chart, bar plot etc.\n",
        "                    Ex.- Customer Satisfaction, Education Level, etc.\n",
        "3. Interval Scale--> It measures numerical data.\n",
        "                    In this scale order and ranks are considered, has some meanig and difference of them\n",
        "                    can be measured excluding ratio.\n",
        "                    It doesn't have compulsary 0 starting value.\n",
        "                    It can be represented through histogram, scatter plot etc.\n",
        "                    Ex.- Temperature, IQetc.\n",
        "4. Ratio Scale--> It measures numerical data.\n",
        "                  In this scale order and ranks are considered, has some meanig and difference of them\n",
        "                  can be measured including ratio.\n",
        "                  It does have compulsary 0 starting value.\n",
        "                  Ex.- Age, Height, Weight, etc.\n",
        "'''"
      ],
      "metadata": {
        "id": "RD0csF8RCJfH"
      },
      "execution_count": null,
      "outputs": []
    },
    {
      "cell_type": "markdown",
      "source": [
        "**2. What are the measures of central tendency, and when should you use each? Discuss the mean, median, and mode with examples and situations where each is appropriate.**"
      ],
      "metadata": {
        "id": "vlJD5yIpB_kK"
      }
    },
    {
      "cell_type": "code",
      "source": [
        "'''\n",
        "Measures of central tendency --> It is a technique of descriptive statistics.\n",
        "1. Mean --> Arithmetic mid point of dataset, the mean is the sum of all values divided by the number of values. It's often referred to as the \"average.\"\n",
        "\n",
        "            Example:\n",
        "            For the dataset: [5, 10, 15, 20, 25], the mean would be:\n",
        "            Mean = (5 + 10 + 15 + 20 + 25) / 5 = 75 / 5 = 15\n",
        "\n",
        "            When to use the Mean:\n",
        "            1.When the data is normally distributed (symmetrical and bell-shaped).\n",
        "            2.When there are no outliers (extreme values).\n",
        "            3.Use the mean when dealing with continuous data, such as heights, weights, or test scores.\n",
        "\n",
        "            Not ideal when:\n",
        "            There are outliers (extremely high or low values). The mean can be skewed, leading to a misleading representation of the data.\n",
        "\n",
        "2. Meadian --> Physical mid point of dataset, The median is the middle value in a dataset when the numbers are arranged in ascending or descending order.\n",
        "              If there's an even number of values, the median is the average of the two middle values. If there's an odd number of values, the median is the middle value only.\n",
        "\n",
        "              Example:\n",
        "              For the dataset: [5, 10, 15, 20, 25], the median would be:\n",
        "              Median = 15\n",
        "              For the dataset: [5, 10, 15, 20], the median is:\n",
        "              Median = (10 + 15) / 2 = 12.5\n",
        "\n",
        "              When to use the median:\n",
        "              1.When the data is skewed (not normally distributed) or has outliers.\n",
        "              2.The median is useful for ordered data where the exact difference between data points is not important (e.g., ranking satisfaction on a scale of 1-5).\n",
        "\n",
        "              Not ideal when:\n",
        "              The data is normally distributed.\n",
        "\n",
        "3. Mode --> The mode is the value that appears most frequently in a dataset.\n",
        "            A dataset can have no mode, one mode (unimodal), or more than one mode (bimodal or multimodal).\n",
        "\n",
        "            Example:\n",
        "            For the dataset: [5, 10, 10, 15, 20], the mode is 10 (it appears twice).\n",
        "            For the dataset: [5, 10, 10, 15, 15], the modes are 10 and 15 (both appear twice).\n",
        "\n",
        "            When to use the mode:\n",
        "            1.When you want to find the most common value in a dataset.\n",
        "            2.The mode is useful for qualitative or categorical data.\n",
        "            3.It can also be used when analyzing discrete data\n",
        "\n",
        "            Not ideal when:\n",
        "            There are no repeated values in the data set or when analyzing continuous data that has many unique values.\n",
        "\n",
        "'''"
      ],
      "metadata": {
        "id": "MXhZrvSfI1Ks"
      },
      "execution_count": null,
      "outputs": []
    },
    {
      "cell_type": "code",
      "source": [
        "import numpy as np\n",
        "import statistics as stats\n",
        "#here height is a list of continuous numerical data without outliner\n",
        "height=[177,180,123.45,223.45,287.12,562.34]\n",
        "print(\"Mean of height:\",round(np.mean(height),2))\n",
        "print(\"Median of height:\",np.median(height))\n",
        "#here height1 is a list of continuous numerical data with outliner\n",
        "height1=[177,180,123.45,223.45,2870.12,562.34]\n",
        "print(\"Mean of height:\",round(np.mean(height1),2))\n",
        "print(\"Median of height:\",np.median(height1))\n",
        "#here gender is a list of nominal categorical data without order\n",
        "gender=['Male','Female','Female','Female','Male','Male','Female','Male','Male']\n",
        "print(\"Mode of gender:\",stats.mode(gender))"
      ],
      "metadata": {
        "colab": {
          "base_uri": "https://localhost:8080/"
        },
        "id": "j59L2Ejj2ycn",
        "outputId": "0145fa3a-ea2d-45b9-897c-71e97d35d4be"
      },
      "execution_count": null,
      "outputs": [
        {
          "output_type": "stream",
          "name": "stdout",
          "text": [
            "Mean of height: 258.89\n",
            "Median of height: 201.725\n",
            "Mean of height: 689.39\n",
            "Median of height: 201.725\n",
            "Mode of gender: Male\n"
          ]
        }
      ]
    },
    {
      "cell_type": "markdown",
      "source": [
        "**3. Explain the concept of dispersion. How do variance and standard deviation measure the spread of data?**"
      ],
      "metadata": {
        "id": "-WDVsJLOB_oI"
      }
    },
    {
      "cell_type": "code",
      "source": [
        "'''\n",
        "Dispersion refers to the extent to which data points in a dataset spread out or vary from the central tendency (such as the mean or median).\n",
        "It provides insight into the variability or consistency of the data. In other words, dispersion helps us understand how much the values differ from each other and from the average value.\n",
        "\n",
        "Variance is the average squared deviation from the mean. It gives a sense of the overall spread of the data.\n",
        "Variance = Σ(X - μ)² / N\n",
        "where:\n",
        "Σ = summation\n",
        "X = individual data point\n",
        "μ = mean of the data\n",
        "N = number of data points (population)\n",
        "Variance = Σ(X - x)² / n-1\n",
        "where:\n",
        "Σ = summation\n",
        "X = individual data point\n",
        "x = mean of the data\n",
        "n = number of data points (sample)\n",
        "Intuition:\n",
        "Variance tells us how spread out the data points are from the mean.\n",
        "A higher variance means that the data points are widely dispersed around the mean.\n",
        "A lower variance means that the data points are clustered closer to the mean.\n",
        "\n",
        "Example:\n",
        "For the dataset: [5, 10, 15, 20, 25], the mean is 15.\n",
        "The variance is calculated by finding the squared differences between each value and the mean, then averaging those squared differences:\n",
        "\n",
        "Variance = ((5-15)^2 + (10-15)^2 + (15-15)^2 + (20-15)^2 + (25-15)^2) / 5\n",
        "         = 250/5\n",
        "         = 50\n",
        "\n",
        "Standard Deviation is the square root of the variance. It's a more interpretable measure because it's in the same units as the original data.\n",
        "Standard Deviation = √(Variance)\n",
        "Intuition:\n",
        "The standard deviation tells us, on average, how far data points are from the mean.\n",
        "A larger standard deviation means greater variability in the data (data points are spread out).\n",
        "A smaller standard deviation means less variability (data points are clustered closely around the mean).\n",
        "\n",
        "Example:\n",
        "For the same dataset [5, 10, 15, 20, 25] with a variance of 50, the standard deviation is:\n",
        "\n",
        "Standard Deviation = √(50) = 7.07\n",
        "So the standard deviation is approximately 7.07, meaning that, on average, the data points are 7.07 units away from the mean of 15.\n",
        "'''"
      ],
      "metadata": {
        "id": "1MFQsEEEbsuQ"
      },
      "execution_count": null,
      "outputs": []
    },
    {
      "cell_type": "markdown",
      "source": [
        "**4. What is a box plot, and what can it tell you about the distribution of data?**"
      ],
      "metadata": {
        "id": "hNGEUIxanKlk"
      }
    },
    {
      "cell_type": "code",
      "source": [
        "'''\n",
        "A box plot (also known as a box-and-whisker plot) is a graphical representation of the distribution of a dataset that visually summarizes its key characteristics, including its central tendency, spread, and skewness. It is particularly useful for identifying outliers and understanding the overall distribution and symmetry of the data.\n",
        "\n",
        "Components of a Box Plot:\n",
        "A box plot consists of five key summary statistics, which divide the data into quartiles:\n",
        "\n",
        "Minimum (the smallest value, excluding outliers)\n",
        "First Quartile (Q1): The 25th percentile, which is the value below which 25% of the data lies.\n",
        "Median (Q2): The 50th percentile, which divides the data into two equal halves.\n",
        "Third Quartile (Q3): The 75th percentile, which is the value below which 75% of the data lies.\n",
        "Maximum (the largest value, excluding outliers)\n",
        "In addition to the five summary statistics, a box plot can also show outliers as individual points that fall outside the whiskers of the plot.\n",
        "Example of a Box Plot:\n",
        "Consider the dataset: [5, 7, 9, 10, 12, 14, 16, 18, 20, 22, 30]\n",
        "\n",
        "Minimum: 5\n",
        "First Quartile (Q1): 9\n",
        "Median (Q2): 14\n",
        "Third Quartile (Q3): 20\n",
        "Maximum: 22\n",
        "The point 30 is an outlier because it lies far beyond the whisker, which may extend only to 22.\n",
        "'''"
      ],
      "metadata": {
        "id": "mao7mo0inMBm"
      },
      "execution_count": null,
      "outputs": []
    },
    {
      "cell_type": "markdown",
      "source": [
        "**5. Discuss the role of random sampling in making inferences about populations.**"
      ],
      "metadata": {
        "id": "bI_x6OYenx9k"
      }
    },
    {
      "cell_type": "code",
      "source": [
        "'''\n",
        "Random sampling is a fundamental technique in statistics that involves selecting individuals from a population in a way that ensures each member has an equal chance of being chosen.\n",
        "It plays a crucial role in making accurate inferences about populations based on sample data.\n",
        "\n",
        "Key Benefits of Random Sampling:\n",
        "1.Unbiased Representation: Random sampling helps to eliminate bias in the selection process, ensuring that the sample is representative of the population. This reduces the likelihood of drawing erroneous conclusions.\n",
        "2.Generalizability: A randomly selected sample can be generalized to the larger population from which it was drawn. This allows researchers to make inferences about the characteristics of the entire population based on the findings from the sample.\n",
        "3.Statistical Inference: Random sampling is essential for statistical inference, which involves using sample data to estimate population parameters and test hypotheses. Statistical methods rely on the assumption of random sampling to ensure the validity of their results.\n",
        "4.Reduced Sampling Error: Random sampling helps to minimize sampling error, which is the difference between the sample statistic and the population parameter. By selecting individuals randomly, researchers can reduce the likelihood of obtaining a sample that is significantly different from the population.\n",
        "5.Foundation for Probability Theory: Random sampling is the foundation for probability theory, which provides the mathematical framework for making inferences about populations. Probability distributions are based on the assumption of random selection.\n",
        "'''"
      ],
      "metadata": {
        "id": "36cKmHtEnzeh"
      },
      "execution_count": null,
      "outputs": []
    },
    {
      "cell_type": "markdown",
      "source": [
        "**6. Explain the concept of skewness and its types. How does skewness affect the interpretation of data?**"
      ],
      "metadata": {
        "id": "mYs5PtVoppe1"
      }
    },
    {
      "cell_type": "code",
      "source": [
        "'''\n",
        "Skewness is a measure of the asymmetry of a probability distribution of a real-valued random variable.\n",
        "In simpler terms, it indicates whether the data is concentrated more on one side of the distribution than the other.\n",
        "\n",
        "Types of Skewness:\n",
        "There are three main types of skewness:\n",
        "\n",
        "1. Positive Skew (Right-Skewed Distribution)\n",
        "In a positively skewed distribution, the tail is longer on the right side (positive direction). Most of the data points are concentrated on the left side of the distribution, with fewer larger values creating a long tail to the right.\n",
        "\n",
        "Mean > Median > Mode\n",
        "The mean is pulled to the right by the presence of outliers or extreme values on the higher end.\n",
        "Example:\n",
        "Income distribution is often positively skewed. A small number of people earn extremely high incomes, which pulls the mean upwards, while most people earn below-average incomes.\n",
        "\n",
        "Impact on Data Interpretation:\n",
        "In a positively skewed distribution, using the mean can be misleading because it will be higher than most values in the dataset. The median is often a better representation of the central value when data is right-skewed, as it is less affected by outliers.\n",
        "\n",
        "2. Negative Skew (Left-Skewed Distribution)\n",
        "In a negatively skewed distribution, the tail is longer on the left side (negative direction). Most data points are concentrated on the right side, with fewer smaller values creating a long tail to the left.\n",
        "\n",
        "Mean < Median < Mode\n",
        "The mean is pulled to the left by the presence of outliers or extreme low values.\n",
        "Example:\n",
        "Scores on an easy test can be negatively skewed if most students score high, but a few students score significantly lower, pulling the mean down.\n",
        "\n",
        "Impact on Data Interpretation:\n",
        "In a negatively skewed distribution, the median again tends to be a better measure of central tendency than the mean because the mean is affected by low outliers, making it smaller than the bulk of the data.\n",
        "\n",
        "3. Symmetrical Distribution (No Skewness)\n",
        "A symmetrical distribution has no skewness, meaning the data is evenly distributed on both sides of the mean. The left and right tails are mirror images of each other.\n",
        "\n",
        "Mean = Median = Mode\n",
        "Example:\n",
        "The normal distribution (bell curve) is the classic example of a symmetrical distribution, where most data points are centered around the mean, and the probabilities decrease symmetrically as you move away from the mean.\n",
        "\n",
        "Impact on Data Interpretation:\n",
        "In a symmetrical distribution, the mean, median, and mode are all equal, making the mean a reliable measure of central tendency.\n",
        "\n",
        "\n",
        "'''"
      ],
      "metadata": {
        "id": "7lWY1v9Ppq4Z"
      },
      "execution_count": null,
      "outputs": []
    },
    {
      "cell_type": "markdown",
      "source": [
        "**7. What is the interquartile range (IQR), and how is it used to detect outliers?**"
      ],
      "metadata": {
        "id": "S_YY6U77B_rc"
      }
    },
    {
      "cell_type": "code",
      "source": [
        "'''\n",
        "The interquartile range (IQR) is a statistical measure that describes the spread of a dataset's middle 50%.\n",
        "It is calculated by subtracting the first quartile (Q1) from the third quartile (Q3).\n",
        "Steps to Calculate the IQR:\n",
        "suppose data set has even number of elements then\n",
        "n=even number elements\n",
        "Q1=(n/4)th element -- This is the value below which 25% of the data falls.\n",
        "Q3=(3n/4)th element -- This is the value below which 75% of the data falls.\n",
        "IQR=Q3-Q1\n",
        "suppose data set has odd number of elements then\n",
        "n=odd number elements\n",
        "Q1=(n+1/4)th element\n",
        "Q3=(3n+1/4)th element\n",
        "IQR=Q3-Q1\n",
        "Detecting Outliers with IQR:\n",
        "Outliers are values that lie far from the rest of the data points.\n",
        "Using the IQR, outliers can be detected by determining whether a data point falls significantly above or below the typical range of the data.\n",
        "\n",
        "The common rule for detecting outliers using IQR is:\n",
        "\n",
        "A data point is considered an outlier if it is:\n",
        "Below Q1 - 1.5 * IQR\n",
        "Above Q3 + 1.5 * IQR\n",
        "Formulas for Outlier Boundaries:\n",
        "Lower Bound = Q1 - 1.5 * IQR\n",
        "Upper Bound = Q3 + 1.5 * IQR\n",
        "Any data points outside of these bounds are considered outliers.\n",
        "It is particularly useful for identifying outliers in skewed datasets or datasets with extreme values, especially in box whisker plots.\n",
        "\n",
        "Example:\n",
        "Suppose we have the following sorted data:\n",
        "[1, 2, 3, 4, 5, 6, 7, 8, 9]\n",
        "\n",
        "Q1 = 3 (25th percentile)\n",
        "Q3 = 7 (75th percentile)\n",
        "IQR = Q3 - Q1 = 7 - 3 = 4\n",
        "The outlier boundaries:\n",
        "\n",
        "Lower Bound = 3 - 1.5 * 4 = -3\n",
        "Upper Bound = 7 + 1.5 * 4 = 13\n",
        "Since the dataset values fall between 1 and 9, there are no outliers.\n",
        "'''\n"
      ],
      "metadata": {
        "id": "igoDozklA3Zq"
      },
      "execution_count": null,
      "outputs": []
    },
    {
      "cell_type": "markdown",
      "source": [
        "**8. Discuss the conditions under which the binomial distribution is used.**"
      ],
      "metadata": {
        "id": "PBgCcfCOB_u4"
      }
    },
    {
      "cell_type": "code",
      "source": [
        "'''\n",
        "Conditions for Using the Binomial Distribution:\n",
        "Fixed Number of Trials (n):\n",
        "\n",
        "There must be a predetermined, fixed number of trials or attempts, denoted by n. Each trial represents a separate occurrence of the experiment.\n",
        "Example:\n",
        "Tossing a coin 10 times, where each toss is a trial and the outcome of each is either heads or tails.\n",
        "\n",
        "Only Two Possible Outcomes per Trial:\n",
        "\n",
        "Each trial must have exactly two mutually exclusive outcomes: success or failure. These outcomes can be defined as anything, such as heads or tails, passing or failing, true or false, etc.\n",
        "The distribution gets its name from the binary nature of the outcomes.\n",
        "Example:\n",
        "In a medical trial, the two possible outcomes could be \"responds to treatment\" (success) and \"does not respond\" (failure).\n",
        "\n",
        "Constant Probability of Success (p):\n",
        "\n",
        "The probability of success (denoted as p) must remain constant for each trial, and the probability of failure is 1 - p. In other words, each trial is identical, with the same likelihood of success.\n",
        "Example:\n",
        "The probability of rolling a 6 on a fair die remains the same (1/6) in every roll, no matter how many times you roll.\n",
        "\n",
        "Independence of Trials:\n",
        "\n",
        "The outcome of any individual trial must not affect the outcome of any other trial. In other words, the trials must be independent of each other.\n",
        "Example:\n",
        "In a sequence of coin tosses, whether the previous toss was heads or tails has no effect on the outcome of the next toss.\n",
        "'''"
      ],
      "metadata": {
        "id": "HS3PnIodouZH"
      },
      "execution_count": null,
      "outputs": []
    },
    {
      "cell_type": "markdown",
      "source": [
        "**9. Explain the properties of the normal distribution and the empirical rule (68-95-99.7 rule)**"
      ],
      "metadata": {
        "id": "oen7SJolB_yI"
      }
    },
    {
      "cell_type": "code",
      "source": [
        "'''\n",
        "Properties of the Normal Distribution:\n",
        "Symmetry:\n",
        "\n",
        "The normal distribution is perfectly symmetric about the mean. This means that the left and right halves of the curve are mirror images of each other.\n",
        "The mean, median, and mode of a normal distribution are all equal and lie at the center of the distribution.\n",
        "Bell-Shaped Curve:\n",
        "\n",
        "The shape of the normal distribution is bell-shaped, meaning that most of the data points cluster around the mean, and the frequency of data points decreases as you move away from the mean.\n",
        "The tails of the curve approach but never touch the horizontal axis, meaning that extreme values are possible but become increasingly rare as you move further from the mean.\n",
        "Mean and Standard Deviation:\n",
        "\n",
        "The distribution is determined by two parameters:\n",
        "Mean (μ): The center or location of the distribution.\n",
        "Standard deviation (σ): The measure of the spread or width of the distribution. A smaller standard deviation results in a narrower curve, while a larger standard deviation results in a wider curve.\n",
        "The mean dictates where the peak of the curve is, and the standard deviation controls how spread out the data is around the mean.\n",
        "Total Area Under the Curve:\n",
        "\n",
        "The total area under the normal distribution curve is always equal to 1, representing 100% of the data. This is a key property because it means the curve is a probability distribution, with areas under the curve representing probabilities.\n",
        "Asymptotic:\n",
        "\n",
        "The tails of the normal distribution curve approach the horizontal axis asymptotically. This means that while the probability of extreme values becomes very small, it never actually reaches zero.\n",
        "\n",
        "\n",
        "Empirical Rule (68-95-99.7 Rule):\n",
        "The empirical rule is a key property of the normal distribution, which describes how data is distributed within certain standard deviations of the mean. This rule states that in a normal distribution:\n",
        "\n",
        "68% of the data lies within 1 standard deviation of the mean.\n",
        "95% of the data lies within 2 standard deviations of the mean.\n",
        "99.7% of the data lies within 3 standard deviations of the mean.\n",
        "The empirical rule is often used as a quick way to assess probabilities and understand the spread of data in a normal distribution.\n",
        "'''"
      ],
      "metadata": {
        "id": "p4vQYep4pEw-"
      },
      "execution_count": null,
      "outputs": []
    }
  ]
}